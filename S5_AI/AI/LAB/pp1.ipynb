{
 "cells": [
  {
   "cell_type": "code",
   "execution_count": 1,
   "id": "70a122a7-ba70-49fc-9363-26bd6fefdd6e",
   "metadata": {},
   "outputs": [
    {
     "name": "stdout",
     "output_type": "stream",
     "text": [
      "Hello World\n",
      "Welcome to python world\n"
     ]
    }
   ],
   "source": [
    "print(\"Hello World\")\n",
    "print(\"Welcome to python world\")"
   ]
  },
  {
   "cell_type": "code",
   "execution_count": 2,
   "id": "f1ebfe24-0370-4b15-8427-0083e6d68e5d",
   "metadata": {},
   "outputs": [
    {
     "name": "stdout",
     "output_type": "stream",
     "text": [
      "<class 'int'>\n",
      "10\n",
      "<class 'float'>\n",
      "5.5\n",
      "<class 'str'>\n",
      "Python\n",
      "Sum :  15.5\n",
      "Pythonfun\n"
     ]
    }
   ],
   "source": [
    "a = 10\n",
    "b = 5.5\n",
    "c = \"Python\"\n",
    "print(type(a))\n",
    "print(a)\n",
    "print(type(b))\n",
    "print(b)\n",
    "print(type(c))\n",
    "print(c)\n",
    "print(\"Sum : \", a + b)\n",
    "d = \"fun\"\n",
    "print(c + d)\n"
   ]
  },
  {
   "cell_type": "code",
   "execution_count": 3,
   "id": "567bd17c-86b8-498d-858d-c1471fda1448",
   "metadata": {},
   "outputs": [
    {
     "name": "stdin",
     "output_type": "stream",
     "text": [
      "Enter first numbers :  5\n",
      "Enter second numbers :  7\n"
     ]
    },
    {
     "name": "stdout",
     "output_type": "stream",
     "text": [
      " Addition :  12\n",
      " Subtraction :  -2\n",
      " Multiplication :  35\n",
      " Division :  0.7142857142857143\n",
      " Floor division :  0\n",
      " Modulo :  5\n",
      " Exopnential :  78125\n"
     ]
    }
   ],
   "source": [
    "a = int(input(\"Enter first numbers : \"))\n",
    "b = int(input(\"Enter second numbers : \"))\n",
    "print(\" Addition : \", a + b)\n",
    "print(\" Subtraction : \", a - b)\n",
    "print(\" Multiplication : \", a * b)\n",
    "print(\" Division : \", a / b)\n",
    "print(\" Floor division : \", a // b )\n",
    "print(\" Modulo : \", a % b)\n",
    "print(\" Exopnential : \", a ** b)"
   ]
  },
  {
   "cell_type": "code",
   "execution_count": 4,
   "id": "40c0c91a-b2e2-4187-89c0-73782e698963",
   "metadata": {},
   "outputs": [
    {
     "name": "stdout",
     "output_type": "stream",
     "text": [
      "You should go outside.\n",
      "You don't need an umbrella.\n"
     ]
    }
   ],
   "source": [
    "is_sunny = True\n",
    "have_umbrella = False\n",
    "if is_sunny or have_umbrella:\n",
    "\tprint(\"You should go outside.\")\n",
    "else:\n",
    "\tprint(\"You should not go outside.\")\n",
    "if not is_sunny:\n",
    "\tprint(\"You should carry the umbrella.\")\n",
    "else:\n",
    "\tprint(\"You don't need an umbrella.\")\n"
   ]
  },
  {
   "cell_type": "code",
   "execution_count": 5,
   "id": "5c1d4240-1db6-45a9-adbc-6e3272889413",
   "metadata": {},
   "outputs": [
    {
     "name": "stdin",
     "output_type": "stream",
     "text": [
      " Enter a sentence :  Python is a high level language\n"
     ]
    },
    {
     "name": "stdout",
     "output_type": "stream",
     "text": [
      " Number of charecters  :  31\n",
      " Uppercase :  PYTHON IS A HIGH LEVEL LANGUAGE\n",
      " Lowercase :  python is a high level language\n",
      " Replace spaces with underscores :  Python_is_a_high_level_language\n",
      " The word python is not in sentence.\n"
     ]
    }
   ],
   "source": [
    "s = input(\" Enter a sentence : \")\n",
    "print(\" Number of charecters  : \", len(s))\n",
    "print(\" Uppercase : \", s.upper())\n",
    "print(\" Lowercase : \", s.lower())\n",
    "print(\" Replace spaces with underscores : \", s.replace(\" \",\"_\"))\n",
    "s.lower()\n",
    "if 'python' in s:\n",
    "\tprint(\" The word python is in the sentence.\")\n",
    "else:\n",
    "\tprint(\" The word python is not in sentence.\")\n",
    " \n",
    "\t"
   ]
  },
  {
   "cell_type": "code",
   "execution_count": 6,
   "id": "c9f99a6d-cedb-415e-bc93-0f74a19df744",
   "metadata": {},
   "outputs": [
    {
     "name": "stdin",
     "output_type": "stream",
     "text": [
      " Enter a number :  5\n"
     ]
    },
    {
     "name": "stdout",
     "output_type": "stream",
     "text": [
      " Positive number.\n"
     ]
    }
   ],
   "source": [
    "a = int(input(\" Enter a number : \"))\n",
    "if(a > 0):\n",
    "\tprint(\" Positive number.\")\n",
    "elif(a == 0):\n",
    "\tprint(\" Zero.\")\n",
    "else:\n",
    "\tprint(\" Negative number.\")\n"
   ]
  },
  {
   "cell_type": "code",
   "execution_count": 7,
   "id": "c1da6dde-7e47-49c1-b6b2-94bd2d7b6663",
   "metadata": {},
   "outputs": [
    {
     "name": "stdin",
     "output_type": "stream",
     "text": [
      " Enter the score :  67\n"
     ]
    },
    {
     "name": "stdout",
     "output_type": "stream",
     "text": [
      "Grade C\n"
     ]
    }
   ],
   "source": [
    "m = int(input(\" Enter the score : \"))\n",
    "if(m >= 90):\n",
    "\tprint(\"Grade A\")\n",
    "elif(m >= 75 and m <= 89):\n",
    "\tprint(\"Grade B\")\n",
    "elif(m >= 60 and m <= 74):\n",
    "\tprint(\"Grade C\")\n",
    "elif(m >= 40 and m <= 59):\n",
    "\tprint(\"Grade D\")\n",
    "else:\n",
    "\tprint(\"Fail\")"
   ]
  },
  {
   "cell_type": "code",
   "execution_count": 8,
   "id": "4ae60c53-3338-461a-85fb-b7fac0d2cc3f",
   "metadata": {
    "scrolled": true
   },
   "outputs": [
    {
     "name": "stdin",
     "output_type": "stream",
     "text": [
      "Enter first number :  10\n",
      "Enter second number :  7\n",
      "Enter the operation to perform :  *\n"
     ]
    },
    {
     "name": "stdout",
     "output_type": "stream",
     "text": [
      "Multiplication :  70\n"
     ]
    }
   ],
   "source": [
    "a = int(input(\"Enter first number : \"))\n",
    "b = int(input(\"Enter second number : \"))\n",
    "o = input(\"Enter the operation to perform : \")\n",
    "if(o == \"+\"):\n",
    "\tprint(\"Addition : \", a + b)\n",
    "elif(o == \"-\"):\n",
    "\tprint(\"Subtraction : \", a - b)\n",
    "elif(o == \"*\"):\n",
    "\tprint(\"Multiplication : \", a * b)\n",
    "elif(o == \"/\"):\n",
    "\tprint(\"Division : \", a/b)\n",
    "else:\n",
    "\tprint(\"Invalid operation.\")"
   ]
  },
  {
   "cell_type": "code",
   "execution_count": null,
   "id": "7da36739-79cd-496a-b072-d6e3b723a5c1",
   "metadata": {},
   "outputs": [],
   "source": []
  },
  {
   "cell_type": "code",
   "execution_count": null,
   "id": "4b4f1b33-5bc8-4b00-b855-bad13e47fa92",
   "metadata": {},
   "outputs": [],
   "source": []
  },
  {
   "cell_type": "code",
   "execution_count": null,
   "id": "e7bbccd9-4968-438e-9e50-6ef3bfeaa994",
   "metadata": {},
   "outputs": [],
   "source": []
  }
 ],
 "metadata": {
  "kernelspec": {
   "display_name": "Python 3 (ipykernel)",
   "language": "python",
   "name": "python3"
  },
  "language_info": {
   "codemirror_mode": {
    "name": "ipython",
    "version": 3
   },
   "file_extension": ".py",
   "mimetype": "text/x-python",
   "name": "python",
   "nbconvert_exporter": "python",
   "pygments_lexer": "ipython3",
   "version": "3.10.12"
  }
 },
 "nbformat": 4,
 "nbformat_minor": 5
}
