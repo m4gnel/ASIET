{
 "cells": [
  {
   "cell_type": "code",
   "execution_count": 1,
   "id": "2b1e2962-b1a1-4992-a523-5d63363850b1",
   "metadata": {},
   "outputs": [
    {
     "name": "stdout",
     "output_type": "stream",
     "text": [
      "Defaulting to user installation because normal site-packages is not writeable\n",
      "Requirement already satisfied: pytholog in ./.local/lib/python3.10/site-packages (2.4.1)\n",
      "Requirement already satisfied: more-itertools in /usr/lib/python3/dist-packages (from pytholog) (8.10.0)\n",
      "Note: you may need to restart the kernel to use updated packages.\n"
     ]
    }
   ],
   "source": [
    "pip install pytholog"
   ]
  },
  {
   "cell_type": "code",
   "execution_count": null,
   "id": "8ed21022-a9ab-4338-9cb8-e56c4f92ce85",
   "metadata": {},
   "outputs": [],
   "source": [
    "# EXPERIMENT - 31"
   ]
  },
  {
   "cell_type": "code",
   "execution_count": 7,
   "id": "1b31185f-3223-4073-a7b0-81c3b581dc82",
   "metadata": {},
   "outputs": [
    {
     "name": "stdout",
     "output_type": "stream",
     "text": [
      "hagrid & rain\n",
      "False\n"
     ]
    }
   ],
   "source": [
    "import pytholog as pl\n",
    "from sympy import *\n",
    "from sympy.logic.inference import satisfiable\n",
    "rain = Symbol(\"rain\")\n",
    "hagrid = Symbol(\"hagrid\")  \n",
    "dumbledore = Symbol(\"dumpledore\")\n",
    "logical_sentence = And(rain, hagrid) \n",
    "print(logical_sentence)\n",
    "print(logical_sentence.subs({rain: True, hagrid: False}))"
   ]
  },
  {
   "cell_type": "code",
   "execution_count": 8,
   "id": "e510fb7f-5acd-47a0-a8ce-dba0a625578c",
   "metadata": {},
   "outputs": [
    {
     "name": "stdout",
     "output_type": "stream",
     "text": [
      "Implies(~rain, hagrid)\n",
      "{hagrid: True, rain: True}\n"
     ]
    }
   ],
   "source": [
    "implication_logic = Implies(Not(rain), hagrid) \n",
    "print(implication_logic)\n",
    "print(satisfiable(implication_logic))"
   ]
  },
  {
   "cell_type": "code",
   "execution_count": 9,
   "id": "6fb27d4f-82d7-443d-8c25-38d13bbab7d4",
   "metadata": {},
   "outputs": [
    {
     "name": "stdout",
     "output_type": "stream",
     "text": [
      "hagrid & (dumpledore | hagrid) & (Implies(~rain, hagrid)) & ~(dumpledore & hagrid)\n",
      "{hagrid: True, rain: True, dumpledore: False}\n",
      "{hagrid: True, rain: False, dumpledore: False}\n"
     ]
    }
   ],
   "source": [
    "knowledge_base = And(                   \n",
    "   Implies(Not(rain), hagrid),\n",
    "   Or(hagrid, dumbledore),\n",
    "   Not(And(hagrid, dumbledore)),\n",
    "   hagrid\n",
    ")\n",
    "print(knowledge_base)\n",
    "models = satisfiable(knowledge_base, all_models=True)\n",
    "for model in models:\n",
    "    print(model)"
   ]
  },
  {
   "cell_type": "code",
   "execution_count": 10,
   "id": "7771cbcc-ca82-4eda-aabf-2d178117e0f9",
   "metadata": {},
   "outputs": [
    {
     "name": "stdout",
     "output_type": "stream",
     "text": [
      "False\n"
     ]
    }
   ],
   "source": [
    "from sympy.logic.inference import valid\n",
    "p = Symbol(\"rainy\")\n",
    "q = Symbol(\"happy\")\n",
    "r = Symbol(\"play football\")\n",
    "    \n",
    "p1 = Implies(And(Not(p),q),r)\n",
    "    \n",
    "print(valid(p))"
   ]
  },
  {
   "cell_type": "code",
   "execution_count": 11,
   "id": "10429ebf-370c-4230-b835-acf323c7bc6b",
   "metadata": {},
   "outputs": [
    {
     "name": "stdout",
     "output_type": "stream",
     "text": [
      "True\n"
     ]
    }
   ],
   "source": [
    "from sympy.logic.inference import valid\n",
    "\n",
    "p = Symbol(\"rain_afternoon\")\n",
    "q = Symbol(\"colder_than_yesterday\") \n",
    "r = Symbol(\"go_swimming\")\n",
    "s = Symbol(\"take_a_canoe_trip\")\n",
    "t = Symbol(\"at_home_by_sunset\")\n",
    "\n",
    "p1 = And(Not(p),q) #It’s not sunny and it’s colder than yesterday”]\n",
    "p2 = Implies(r,p) # “We will go swimming only if it’s sunny.”\n",
    "p3 = Implies(Not(r),s) #“If we don’t go swimming then we will take a canoe trip.”\n",
    "p4 = Implies(s,t) #“If we take a canoe trip, then we will be home by sunset\n",
    "\n",
    "result = valid(Implies(And(p1,p2,p3,p4),t))\n",
    "print(result)"
   ]
  },
  {
   "cell_type": "code",
   "execution_count": null,
   "id": "fc4c4aa9-c9c4-41d2-86c3-9d6eb1502804",
   "metadata": {},
   "outputs": [],
   "source": [
    "#  EXPERIMENT - 32"
   ]
  },
  {
   "cell_type": "code",
   "execution_count": 2,
   "id": "46db2bb5-8eaf-4134-b22c-744fed426a92",
   "metadata": {},
   "outputs": [],
   "source": [
    "import pytholog as pl\n",
    "\n",
    "\n",
    "new_kb = pl.KnowledgeBase(\"flavor\")\n",
    "new_kb([\"likes(noor, sausage)\",\n",
    "        \"likes(melissa, pasta)\",\n",
    "        \"likes(dmitry, cookie)\",\n",
    "        \"likes(nikita, sausage)\",\n",
    "        \"likes(assel, limonade)\",\n",
    "        \"food_type(gouda, cheese)\",\n",
    "        \"food_type(ritz, cracker)\",\n",
    "        \"food_type(steak, meat)\",\n",
    "        \"food_type(sausage, meat)\",\n",
    "        \"food_type(limonade, juice)\",\n",
    "        \"food_type(mojito, juice)\",\n",
    "        \"food_type(cookie, dessert)\",\n",
    "        \"flavor(sweet, dessert)\",\n",
    "        \"flavor(savory, meat)\",\n",
    "        \"flavor(savory, cheese)\",\n",
    "        \"flavor(sweet, juice)\",\n",
    "        \"food_flavor(X, Y) :- food_type(X, Z), flavor(Y, Z)\",\n",
    "        \"dish_to_like(X, Y) :- likes(X, L), food_type(L, T), flavor(F, T), food_flavor(Y, F), neq(L, Y)\"])\n"
   ]
  },
  {
   "cell_type": "code",
   "execution_count": 3,
   "id": "651ac3f7-e51d-441c-9cb2-e5e813a457f6",
   "metadata": {},
   "outputs": [
    {
     "data": {
      "text/plain": [
       "['Yes']"
      ]
     },
     "execution_count": 3,
     "metadata": {},
     "output_type": "execute_result"
    }
   ],
   "source": [
    "new_kb.query(pl.Expr(\"likes(noor, sausage)\"))"
   ]
  },
  {
   "cell_type": "code",
   "execution_count": 4,
   "id": "80c45e14-c1ea-4870-885a-66e540005a3d",
   "metadata": {},
   "outputs": [
    {
     "data": {
      "text/plain": [
       "['No']"
      ]
     },
     "execution_count": 4,
     "metadata": {},
     "output_type": "execute_result"
    }
   ],
   "source": [
    "new_kb.query(pl.Expr(\"likes(noor, pasta)\"))"
   ]
  },
  {
   "cell_type": "code",
   "execution_count": 5,
   "id": "730d6bd1-5ec8-4d4f-aa0f-d797509785cd",
   "metadata": {},
   "outputs": [
    {
     "name": "stdout",
     "output_type": "stream",
     "text": [
      "[{'What': 'cookie'}, {'What': 'limonade'}, {'What': 'mojito'}]\n",
      "0.00043654441833496094\n"
     ]
    }
   ],
   "source": [
    "from time import time\n",
    "start = time()\n",
    "print(new_kb.query(pl.Expr(\"food_flavor(What, sweet)\")))\n",
    "print(time() - start)"
   ]
  },
  {
   "cell_type": "code",
   "execution_count": 6,
   "id": "512d2732-68ff-457d-a6e7-e5cd61b8fad2",
   "metadata": {},
   "outputs": [
    {
     "name": "stdout",
     "output_type": "stream",
     "text": [
      "[{'What': 'gouda'}, {'What': 'steak'}]\n",
      "0.00034546852111816406\n"
     ]
    }
   ],
   "source": [
    "start = time()\n",
    "print(new_kb.query(pl.Expr(\"dish_to_like(noor, What)\")))\n",
    "print(time() - start)"
   ]
  }
 ],
 "metadata": {
  "kernelspec": {
   "display_name": "Python 3 (ipykernel)",
   "language": "python",
   "name": "python3"
  },
  "language_info": {
   "codemirror_mode": {
    "name": "ipython",
    "version": 3
   },
   "file_extension": ".py",
   "mimetype": "text/x-python",
   "name": "python",
   "nbconvert_exporter": "python",
   "pygments_lexer": "ipython3",
   "version": "3.10.12"
  }
 },
 "nbformat": 4,
 "nbformat_minor": 5
}
