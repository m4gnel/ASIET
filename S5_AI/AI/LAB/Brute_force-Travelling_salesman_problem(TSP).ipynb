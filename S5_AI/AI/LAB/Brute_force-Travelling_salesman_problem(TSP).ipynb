{
 "cells": [
  {
   "cell_type": "code",
   "execution_count": 1,
   "id": "ada76d93-19cb-4d1b-8292-f90723c45efa",
   "metadata": {},
   "outputs": [],
   "source": [
    "from itertools import permutations"
   ]
  },
  {
   "cell_type": "code",
   "execution_count": 2,
   "id": "c5605678-9653-4506-8588-f99813f740fe",
   "metadata": {},
   "outputs": [],
   "source": [
    "# Distance matrix\n",
    "dist = {\n",
    "    ('A','B'): 10, ('A','C'): 15, ('A','D'): 20,\n",
    "    ('B','A'): 10, ('B','C'): 35, ('B','D'): 25,\n",
    "    ('C','A'): 15, ('C','B'): 35, ('C','D'): 30,\n",
    "    ('D','A'): 20, ('D','B'): 25, ('D','C'): 30\n",
    "}"
   ]
  },
  {
   "cell_type": "code",
   "execution_count": 3,
   "id": "0aeb96af-e5a6-40c4-b106-a570e76062e1",
   "metadata": {},
   "outputs": [],
   "source": [
    "cities = ['A','B','C','D']\n",
    "start = 'A'\n",
    "min_cost = float('inf')\n",
    "best_path = []"
   ]
  },
  {
   "cell_type": "code",
   "execution_count": 4,
   "id": "520f52f3-4926-459e-a33d-41ecce608ba5",
   "metadata": {},
   "outputs": [
    {
     "name": "stdout",
     "output_type": "stream",
     "text": [
      "Best Path: []\n",
      "Minimum Cost: inf\n"
     ]
    }
   ],
   "source": [
    "print(\"Best Path:\", best_path)\n",
    "print(\"Minimum Cost:\", min_cost)"
   ]
  }
 ],
 "metadata": {
  "kernelspec": {
   "display_name": "Python 3 (ipykernel)",
   "language": "python",
   "name": "python3"
  },
  "language_info": {
   "codemirror_mode": {
    "name": "ipython",
    "version": 3
   },
   "file_extension": ".py",
   "mimetype": "text/x-python",
   "name": "python",
   "nbconvert_exporter": "python",
   "pygments_lexer": "ipython3",
   "version": "3.10.12"
  }
 },
 "nbformat": 4,
 "nbformat_minor": 5
}
