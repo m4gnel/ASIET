{
 "cells": [
  {
   "cell_type": "code",
   "execution_count": 4,
   "id": "f932c9ab-3679-4bfb-9cba-a97303120d48",
   "metadata": {},
   "outputs": [
    {
     "name": "stdout",
     "output_type": "stream",
     "text": [
      "1\n",
      "2\n",
      "3\n",
      "4\n",
      "5\n",
      "6\n",
      "7\n",
      "8\n",
      "9\n",
      "10\n"
     ]
    }
   ],
   "source": [
    "i = 1\n",
    "while i <= 10:\n",
    "    print(i)\n",
    "    i+=1\n"
   ]
  },
  {
   "cell_type": "code",
   "execution_count": 9,
   "id": "53e3909e-b981-4d61-8c41-2451be70ed34",
   "metadata": {},
   "outputs": [
    {
     "name": "stdin",
     "output_type": "stream",
     "text": [
      "Enter a number :  5\n"
     ]
    },
    {
     "name": "stdout",
     "output_type": "stream",
     "text": [
      "5 x 1 = 5\n",
      "5 x 2 = 10\n",
      "5 x 3 = 15\n",
      "5 x 4 = 20\n",
      "5 x 5 = 25\n",
      "5 x 6 = 30\n",
      "5 x 7 = 35\n",
      "5 x 8 = 40\n",
      "5 x 9 = 45\n",
      "5 x 10 = 50\n"
     ]
    }
   ],
   "source": [
    "a = int(input(\"Enter a number : \"))\n",
    "for i in range(1,11):\n",
    "    print(a,\"x\",i,\"=\",a*i)\n",
    "    "
   ]
  },
  {
   "cell_type": "code",
   "execution_count": 11,
   "id": "1b4d79a7-d351-44cf-9dc2-645635897731",
   "metadata": {},
   "outputs": [
    {
     "name": "stdin",
     "output_type": "stream",
     "text": [
      "Enter the range :  5\n"
     ]
    },
    {
     "name": "stdout",
     "output_type": "stream",
     "text": [
      "\n",
      "*\n",
      "**\n",
      "***\n",
      "****\n"
     ]
    }
   ],
   "source": [
    "n = int(input(\"Enter the range : \"))\n",
    "for i in range(n):\n",
    "    for j in range(i):\n",
    "        print(\"*\",end=\"\")\n",
    "    print()"
   ]
  },
  {
   "cell_type": "code",
   "execution_count": 12,
   "id": "42e1cb20-49bf-46cf-8d42-3df10124ddee",
   "metadata": {},
   "outputs": [
    {
     "name": "stdout",
     "output_type": "stream",
     "text": [
      "['Apple', 'Mango', 'Lemon', 'orange', 'watermelon']\n"
     ]
    }
   ],
   "source": [
    "l = [\"Apple\",\"Mango\",\"Lemon\",\"orange\",\"watermelon\"]\n",
    "for i in range(1):\n",
    "    print(l)"
   ]
  },
  {
   "cell_type": "code",
   "execution_count": 18,
   "id": "bd6bdb4f-0bbc-4c61-9673-2f1293705b1a",
   "metadata": {},
   "outputs": [
    {
     "name": "stdout",
     "output_type": "stream",
     "text": [
      "{'Messi': 10, 'Ronaldo': 7, 'Neymar': 9}\n"
     ]
    }
   ],
   "source": [
    "d = {\"Messi\":10,\"Ronaldo\":7,\"Neymar\":9}\n",
    "for i in range(1):\n",
    "    print(d)"
   ]
  },
  {
   "cell_type": "code",
   "execution_count": 19,
   "id": "d5659376-9a89-40e2-b9ac-63f3e91b746c",
   "metadata": {},
   "outputs": [
    {
     "name": "stdout",
     "output_type": "stream",
     "text": [
      "{2, 3, 4, 5}\n"
     ]
    }
   ],
   "source": [
    "t = {2,3,4,5}\n",
    "print(t)"
   ]
  },
  {
   "cell_type": "code",
   "execution_count": 20,
   "id": "f3da0e11-a221-423c-9bef-1b6b3aa465b9",
   "metadata": {},
   "outputs": [
    {
     "name": "stdout",
     "output_type": "stream",
     "text": [
      "First 6 Charecter :  Python\n",
      "Last 6 Charecter :  raming\n",
      "Every 2nd Charecter :  Pto rgaig\n",
      "Reversed String :  gnimargorP nohtyP\n"
     ]
    }
   ],
   "source": [
    "s = \"Python Programing\"\n",
    "print(\"First 6 Charecter : \",s[:6])\n",
    "print(\"Last 6 Charecter : \",s[-6:])\n",
    "print(\"Every 2nd Charecter : \",s[::2])\n",
    "print(\"Reversed String : \",s[::-1])"
   ]
  },
  {
   "cell_type": "code",
   "execution_count": 24,
   "id": "6e646af2-e940-416c-83fc-8d101a749a4f",
   "metadata": {},
   "outputs": [
    {
     "name": "stdout",
     "output_type": "stream",
     "text": [
      "[1, 4, 9, 16, 25, 36, 49, 64, 81, 100]\n"
     ]
    }
   ],
   "source": [
    "print([i*i for i in range(1,11)])"
   ]
  },
  {
   "cell_type": "code",
   "execution_count": 29,
   "id": "837e2c85-97cc-4ec6-b786-98eec38cc2fc",
   "metadata": {},
   "outputs": [
    {
     "name": "stdout",
     "output_type": "stream",
     "text": [
      "[2, 4, 6, 8, 10, 12, 14, 16, 18, 20, 22, 24, 26, 28, 30, 32, 34, 36, 38, 40, 42, 44, 46, 48, 50]\n"
     ]
    }
   ],
   "source": [
    "l = print([i for i in range(1,51) if i%2==0])"
   ]
  },
  {
   "cell_type": "code",
   "execution_count": 30,
   "id": "d38f1112-0948-4c83-bf1b-48c2919a6028",
   "metadata": {},
   "outputs": [
    {
     "name": "stdout",
     "output_type": "stream",
     "text": [
      "['Banana', 'Cherry', 'Grapes']\n"
     ]
    }
   ],
   "source": [
    "words = [\"Apple\",\"Banana\",\"Cherry\",\"Kiwi\",\"Grapes\"]\n",
    "long_words = print([i for i in words if len(i)>5])"
   ]
  },
  {
   "cell_type": "code",
   "execution_count": 32,
   "id": "a2fea2b3-35de-4182-96c1-6849bd634824",
   "metadata": {},
   "outputs": [
    {
     "name": "stdin",
     "output_type": "stream",
     "text": [
      "Enter a digit :  5\n"
     ]
    },
    {
     "name": "stdout",
     "output_type": "stream",
     "text": [
      "Prime\n"
     ]
    }
   ],
   "source": [
    "def is_prime(n):\n",
    "    if n<2:\n",
    "        print(\"Not Prime\")\n",
    "    for i in range(2,n):\n",
    "        if n%2==0:\n",
    "            print(\"Not Prime\")\n",
    "    print(\"Prime\")\n",
    "d = int(input(\"Enter a digit : \"))\n",
    "is_prime(d)\n",
    "            "
   ]
  },
  {
   "cell_type": "code",
   "execution_count": 36,
   "id": "e1b4a1f7-c913-4ff7-b6bd-b0741b27e162",
   "metadata": {},
   "outputs": [
    {
     "name": "stdin",
     "output_type": "stream",
     "text": [
      "Enter a digit :  0\n"
     ]
    },
    {
     "data": {
      "text/plain": [
       "1"
      ]
     },
     "execution_count": 36,
     "metadata": {},
     "output_type": "execute_result"
    }
   ],
   "source": [
    "def fact(n):\n",
    "    if n == 0:\n",
    "        return 1\n",
    "    return n*fact(n-1)\n",
    "d = int(input(\"Enter a digit : \"))\n",
    "fact(d)"
   ]
  },
  {
   "cell_type": "code",
   "execution_count": 37,
   "id": "5c6552a5-ef72-46f6-8960-41f96d3c7895",
   "metadata": {},
   "outputs": [
    {
     "name": "stdout",
     "output_type": "stream",
     "text": [
      "15\n"
     ]
    }
   ],
   "source": [
    "def sum_list(n):\n",
    "    print(sum(n))\n",
    "d = [1,2,3,4,5]\n",
    "sum_list(d)\n"
   ]
  },
  {
   "cell_type": "code",
   "execution_count": 41,
   "id": "e8d128bb-9af9-4f0a-a2dd-31dedf2fd0ae",
   "metadata": {},
   "outputs": [
    {
     "name": "stdout",
     "output_type": "stream",
     "text": [
      "A 1\n",
      "B 2\n",
      "C 3\n"
     ]
    }
   ],
   "source": [
    "class student:\n",
    "        def __init__(self,name,grade):\n",
    "            self.name = name\n",
    "            self.grade = grade\n",
    "        def get_name(self,name):\n",
    "            self.name = name\n",
    "        def get_grade(self,grade):\n",
    "            self.grade = grade\n",
    "s1 = student('A',1)\n",
    "s2 = student('B',2)\n",
    "s3 = student('C',3)    \n",
    "print(s1.name,s1.grade)\n",
    "print(s2.name,s2.grade)\n",
    "print(s3.name,s3.grade)"
   ]
  },
  {
   "cell_type": "code",
   "execution_count": null,
   "id": "a48e5eeb-445c-4144-b52d-d09f28089465",
   "metadata": {},
   "outputs": [],
   "source": []
  }
 ],
 "metadata": {
  "kernelspec": {
   "display_name": "Python 3 (ipykernel)",
   "language": "python",
   "name": "python3"
  },
  "language_info": {
   "codemirror_mode": {
    "name": "ipython",
    "version": 3
   },
   "file_extension": ".py",
   "mimetype": "text/x-python",
   "name": "python",
   "nbconvert_exporter": "python",
   "pygments_lexer": "ipython3",
   "version": "3.10.12"
  }
 },
 "nbformat": 4,
 "nbformat_minor": 5
}
